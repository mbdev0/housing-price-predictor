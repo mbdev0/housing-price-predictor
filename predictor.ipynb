{
 "cells": [
  {
   "cell_type": "code",
   "execution_count": 18,
   "metadata": {},
   "outputs": [
    {
     "data": {
      "text/html": [
       "<div>\n",
       "<style scoped>\n",
       "    .dataframe tbody tr th:only-of-type {\n",
       "        vertical-align: middle;\n",
       "    }\n",
       "\n",
       "    .dataframe tbody tr th {\n",
       "        vertical-align: top;\n",
       "    }\n",
       "\n",
       "    .dataframe thead th {\n",
       "        text-align: right;\n",
       "    }\n",
       "</style>\n",
       "<table border=\"1\" class=\"dataframe\">\n",
       "  <thead>\n",
       "    <tr style=\"text-align: right;\">\n",
       "      <th></th>\n",
       "      <th>Transaction unique identifier</th>\n",
       "      <th>Price</th>\n",
       "      <th>Date of Transfer</th>\n",
       "      <th>Property Type</th>\n",
       "      <th>Old/New</th>\n",
       "      <th>Duration</th>\n",
       "      <th>Town/City</th>\n",
       "      <th>District</th>\n",
       "      <th>County</th>\n",
       "      <th>PPDCategory Type</th>\n",
       "      <th>Record Status - monthly file only</th>\n",
       "    </tr>\n",
       "  </thead>\n",
       "  <tbody>\n",
       "    <tr>\n",
       "      <th>21415096</th>\n",
       "      <td>{47844C80-9B7E-8986-E050-A8C063056488}</td>\n",
       "      <td>100000</td>\n",
       "      <td>2016-12-22 00:00</td>\n",
       "      <td>T</td>\n",
       "      <td>N</td>\n",
       "      <td>F</td>\n",
       "      <td>HOLMFIRTH</td>\n",
       "      <td>KIRKLEES</td>\n",
       "      <td>WEST YORKSHIRE</td>\n",
       "      <td>A</td>\n",
       "      <td>A</td>\n",
       "    </tr>\n",
       "    <tr>\n",
       "      <th>5547713</th>\n",
       "      <td>{211B8882-537F-4427-BEFC-1786E2860D5F}</td>\n",
       "      <td>120000</td>\n",
       "      <td>2000-06-01 00:00</td>\n",
       "      <td>D</td>\n",
       "      <td>N</td>\n",
       "      <td>F</td>\n",
       "      <td>ST. IVES</td>\n",
       "      <td>HUNTINGDONSHIRE</td>\n",
       "      <td>CAMBRIDGESHIRE</td>\n",
       "      <td>A</td>\n",
       "      <td>A</td>\n",
       "    </tr>\n",
       "    <tr>\n",
       "      <th>20811106</th>\n",
       "      <td>{080BAB3B-F8AF-4F84-9850-8E61BF77C293}</td>\n",
       "      <td>108500</td>\n",
       "      <td>2015-05-11 00:00</td>\n",
       "      <td>F</td>\n",
       "      <td>N</td>\n",
       "      <td>L</td>\n",
       "      <td>STRATFORD-UPON-AVON</td>\n",
       "      <td>STRATFORD-ON-AVON</td>\n",
       "      <td>WARWICKSHIRE</td>\n",
       "      <td>A</td>\n",
       "      <td>A</td>\n",
       "    </tr>\n",
       "    <tr>\n",
       "      <th>10108769</th>\n",
       "      <td>{EFF81002-6F4E-4EA4-B3FD-98B2300B201F}</td>\n",
       "      <td>52000</td>\n",
       "      <td>2004-08-13 00:00</td>\n",
       "      <td>T</td>\n",
       "      <td>N</td>\n",
       "      <td>F</td>\n",
       "      <td>ABERDARE</td>\n",
       "      <td>RHONDDA CYNON TAFF</td>\n",
       "      <td>RHONDDA CYNON TAFF</td>\n",
       "      <td>A</td>\n",
       "      <td>A</td>\n",
       "    </tr>\n",
       "    <tr>\n",
       "      <th>9006161</th>\n",
       "      <td>{53BA26C8-A8DF-405D-80FF-9C36EC56B45A}</td>\n",
       "      <td>176000</td>\n",
       "      <td>2003-07-24 00:00</td>\n",
       "      <td>F</td>\n",
       "      <td>N</td>\n",
       "      <td>L</td>\n",
       "      <td>PINNER</td>\n",
       "      <td>HILLINGDON</td>\n",
       "      <td>GREATER LONDON</td>\n",
       "      <td>A</td>\n",
       "      <td>A</td>\n",
       "    </tr>\n",
       "  </tbody>\n",
       "</table>\n",
       "</div>"
      ],
      "text/plain": [
       "                   Transaction unique identifier   Price  Date of Transfer  \\\n",
       "21415096  {47844C80-9B7E-8986-E050-A8C063056488}  100000  2016-12-22 00:00   \n",
       "5547713   {211B8882-537F-4427-BEFC-1786E2860D5F}  120000  2000-06-01 00:00   \n",
       "20811106  {080BAB3B-F8AF-4F84-9850-8E61BF77C293}  108500  2015-05-11 00:00   \n",
       "10108769  {EFF81002-6F4E-4EA4-B3FD-98B2300B201F}   52000  2004-08-13 00:00   \n",
       "9006161   {53BA26C8-A8DF-405D-80FF-9C36EC56B45A}  176000  2003-07-24 00:00   \n",
       "\n",
       "         Property Type Old/New Duration            Town/City  \\\n",
       "21415096             T       N        F            HOLMFIRTH   \n",
       "5547713              D       N        F             ST. IVES   \n",
       "20811106             F       N        L  STRATFORD-UPON-AVON   \n",
       "10108769             T       N        F             ABERDARE   \n",
       "9006161              F       N        L               PINNER   \n",
       "\n",
       "                    District              County PPDCategory Type  \\\n",
       "21415096            KIRKLEES      WEST YORKSHIRE                A   \n",
       "5547713      HUNTINGDONSHIRE      CAMBRIDGESHIRE                A   \n",
       "20811106   STRATFORD-ON-AVON        WARWICKSHIRE                A   \n",
       "10108769  RHONDDA CYNON TAFF  RHONDDA CYNON TAFF                A   \n",
       "9006161           HILLINGDON      GREATER LONDON                A   \n",
       "\n",
       "         Record Status - monthly file only  \n",
       "21415096                                 A  \n",
       "5547713                                  A  \n",
       "20811106                                 A  \n",
       "10108769                                 A  \n",
       "9006161                                  A  "
      ]
     },
     "execution_count": 18,
     "metadata": {},
     "output_type": "execute_result"
    }
   ],
   "source": [
    "import numpy as np\n",
    "import matplotlib.pyplot as plt\n",
    "import pandas as pd\n",
    "\n",
    "\n",
    "hp = pd.read_csv('price_paid_records.csv')\n",
    "#Sample only 100,000 as data is large\n",
    "hp_s = hp.sample(n=100000)\n",
    "# Get first 5 rows\n",
    "hp_s.head()"
   ]
  },
  {
   "cell_type": "code",
   "execution_count": 19,
   "metadata": {},
   "outputs": [
    {
     "data": {
      "text/plain": [
       "100000"
      ]
     },
     "execution_count": 19,
     "metadata": {},
     "output_type": "execute_result"
    }
   ],
   "source": [
    "# Check if there are any duplicate values\n",
    "\n",
    "len(hp_s)\n"
   ]
  },
  {
   "cell_type": "code",
   "execution_count": 20,
   "metadata": {},
   "outputs": [
    {
     "data": {
      "text/plain": [
       "100000"
      ]
     },
     "execution_count": 20,
     "metadata": {},
     "output_type": "execute_result"
    }
   ],
   "source": [
    "len(hp_s.drop_duplicates())"
   ]
  },
  {
   "cell_type": "code",
   "execution_count": 22,
   "metadata": {},
   "outputs": [
    {
     "data": {
      "text/plain": [
       "<bound method DataFrame.dropna of                    Transaction unique identifier   Price  Date of Transfer  \\\n",
       "21415096  {47844C80-9B7E-8986-E050-A8C063056488}  100000  2016-12-22 00:00   \n",
       "5547713   {211B8882-537F-4427-BEFC-1786E2860D5F}  120000  2000-06-01 00:00   \n",
       "20811106  {080BAB3B-F8AF-4F84-9850-8E61BF77C293}  108500  2015-05-11 00:00   \n",
       "10108769  {EFF81002-6F4E-4EA4-B3FD-98B2300B201F}   52000  2004-08-13 00:00   \n",
       "9006161   {53BA26C8-A8DF-405D-80FF-9C36EC56B45A}  176000  2003-07-24 00:00   \n",
       "...                                          ...     ...               ...   \n",
       "11601390  {5BBDDBC1-6BF4-464B-9B47-D5B5A9F2BDE3}  117500  2005-07-29 00:00   \n",
       "12812623  {A0414452-621A-4ABA-80AA-2F25C8BF2644}  160000  2006-10-17 00:00   \n",
       "8888467   {698426FB-7B1D-4A53-B146-6D7617AE21CB}  248000  2003-05-02 00:00   \n",
       "7221686   {C707F60A-1B24-4C48-977B-4F6F8B91698C}  151500  2001-03-30 00:00   \n",
       "5290106   {A94566B3-C84A-4191-ABB9-B31470FC89AE}   59500  2000-09-01 00:00   \n",
       "\n",
       "         Property Type Old/New Duration            Town/City  \\\n",
       "21415096             T       N        F            HOLMFIRTH   \n",
       "5547713              D       N        F             ST. IVES   \n",
       "20811106             F       N        L  STRATFORD-UPON-AVON   \n",
       "10108769             T       N        F             ABERDARE   \n",
       "9006161              F       N        L               PINNER   \n",
       "...                ...     ...      ...                  ...   \n",
       "11601390             S       N        F            DONCASTER   \n",
       "12812623             T       N        L           MANCHESTER   \n",
       "8888467              S       N        F             SOLIHULL   \n",
       "7221686              S       N        F                 IVER   \n",
       "5290106              T       N        F      BISHOP AUCKLAND   \n",
       "\n",
       "                    District              County PPDCategory Type  \\\n",
       "21415096            KIRKLEES      WEST YORKSHIRE                A   \n",
       "5547713      HUNTINGDONSHIRE      CAMBRIDGESHIRE                A   \n",
       "20811106   STRATFORD-ON-AVON        WARWICKSHIRE                A   \n",
       "10108769  RHONDDA CYNON TAFF  RHONDDA CYNON TAFF                A   \n",
       "9006161           HILLINGDON      GREATER LONDON                A   \n",
       "...                      ...                 ...              ...   \n",
       "11601390           DONCASTER     SOUTH YORKSHIRE                A   \n",
       "12812623          MANCHESTER  GREATER MANCHESTER                A   \n",
       "8888467             SOLIHULL       WEST MIDLANDS                A   \n",
       "7221686          SOUTH BUCKS     BUCKINGHAMSHIRE                A   \n",
       "5290106          WEAR VALLEY              DURHAM                A   \n",
       "\n",
       "         Record Status - monthly file only  \n",
       "21415096                                 A  \n",
       "5547713                                  A  \n",
       "20811106                                 A  \n",
       "10108769                                 A  \n",
       "9006161                                  A  \n",
       "...                                    ...  \n",
       "11601390                                 A  \n",
       "12812623                                 A  \n",
       "8888467                                  A  \n",
       "7221686                                  A  \n",
       "5290106                                  A  \n",
       "\n",
       "[100000 rows x 11 columns]>"
      ]
     },
     "execution_count": 22,
     "metadata": {},
     "output_type": "execute_result"
    }
   ],
   "source": [
    "#Drop all nan values\n",
    "hp_s.dropna"
   ]
  },
  {
   "cell_type": "code",
   "execution_count": null,
   "metadata": {},
   "outputs": [],
   "source": [
    "hp_s.drop('Transaction unique identifier', axis = 1, inplace=True)"
   ]
  }
 ],
 "metadata": {
  "kernelspec": {
   "display_name": "Python 3.9.12 ('house_predictor')",
   "language": "python",
   "name": "python3"
  },
  "language_info": {
   "codemirror_mode": {
    "name": "ipython",
    "version": 3
   },
   "file_extension": ".py",
   "mimetype": "text/x-python",
   "name": "python",
   "nbconvert_exporter": "python",
   "pygments_lexer": "ipython3",
   "version": "3.9.12"
  },
  "orig_nbformat": 4,
  "vscode": {
   "interpreter": {
    "hash": "22bce3a384df30fdd159c2f5e76f68761ed3e5e5d94245ab0c4a96744c6b3d86"
   }
  }
 },
 "nbformat": 4,
 "nbformat_minor": 2
}
